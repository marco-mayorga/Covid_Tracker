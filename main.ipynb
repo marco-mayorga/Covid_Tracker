{
 "cells": [
  {
   "cell_type": "code",
   "execution_count": 11,
   "metadata": {},
   "outputs": [],
   "source": [
    "import pandas as pd\n",
    "import folium\n",
    "import os\n",
    "import re\n",
    "from dotenv import load_dotenv"
   ]
  },
  {
   "cell_type": "code",
   "execution_count": 12,
   "metadata": {},
   "outputs": [],
   "source": [
    "#Allows and calls Environment Variables.\n",
    "load_dotenv('/Users/marcomayorga/Documents/Code/Pyprojects/CovidTracker/envVariables.env')\n",
    "apikey = os.getenv(\"API_TOKEN\")"
   ]
  },
  {
   "cell_type": "code",
   "execution_count": 13,
   "metadata": {},
   "outputs": [],
   "source": [
    "#Makes a call to the api\n",
    "upToDateCovidData = f'https://api.covidactnow.org/v2/states.json?apiKey={apikey}'"
   ]
  },
  {
   "cell_type": "code",
   "execution_count": 14,
   "metadata": {},
   "outputs": [],
   "source": [
    "#Makes Pandas read json data from API\n",
    "sortedCovidData = pd.read_json(upToDateCovidData)\n",
    "pd.set_option('display.max_column', 17)\n",
    "pd.set_option('display.width', 1000)\n",
    "pd.set_option('display.max_rows', 54)"
   ]
  },
  {
   "cell_type": "code",
   "execution_count": 15,
   "metadata": {},
   "outputs": [],
   "source": [
    "#Scrubs sortedCovidData of unnecisarry data\n",
    "sortedCovidData = sortedCovidData.drop(['fips', 'county', 'level', 'lat', 'locationId', 'long', 'annotations', \n",
    "'metrics', 'riskLevels', 'cdcTransmissionLevel', ], axis=1)\n",
    "pd.set_option('display.width', 1000)\n",
    "pd.set_option('display.max_column', 40)\n",
    "pd.set_option('display.max_rows', 54)"
   ]
  },
  {
   "cell_type": "code",
   "execution_count": 16,
   "metadata": {},
   "outputs": [],
   "source": [
    "#Loops through all dictionaries in sortedCovidData dataframe containing deaths data in the 'actuals' column \n",
    "cases = []\n",
    "for i in range(len(sortedCovidData)):\n",
    "    casesKeys = re.split('\\s', str(sortedCovidData.loc[i, 'actuals']['cases']))\n",
    "    casesKeys = re.sub(\"[\\['\\]]\", \"\", str(casesKeys))\n",
    "    cases.append(int(casesKeys))"
   ]
  },
  {
   "cell_type": "code",
   "execution_count": 17,
   "metadata": {},
   "outputs": [],
   "source": [
    "#will loop through all dictionaries in sortedCovidData dataframe containing deaths data in the 'actuals' column \n",
    "deaths = []\n",
    "for i in range(len(sortedCovidData)):\n",
    "    deathsKeys = re.split('\\s', str(sortedCovidData.loc[i, 'actuals']['deaths']))\n",
    "    deathsKeys = re.sub(\"[\\['\\]]\", \"\", str(deathsKeys))\n",
    "    deaths.append(int(deathsKeys))"
   ]
  },
  {
   "cell_type": "code",
   "execution_count": 18,
   "metadata": {},
   "outputs": [],
   "source": [
    "#Make a new Column in the dataframe that will use data extracted from the \"actuals\" column\n",
    "sortedCovidData.insert(4, 'cases', cases, True)\n",
    "sortedCovidData.insert(5, 'deaths', deaths, True)"
   ]
  },
  {
   "cell_type": "code",
   "execution_count": 19,
   "metadata": {},
   "outputs": [],
   "source": [
    "#Makes items in the state column into strings\n",
    "newState = []\n",
    "for i in range(len(sortedCovidData)):\n",
    "    newState.append(str(sortedCovidData.loc[i, 'state']))\n",
    "sortedCovidData.insert(1, 'newState', newState, True)\n",
    "sortedCovidData =sortedCovidData.drop('state', axis=1)"
   ]
  },
  {
   "cell_type": "code",
   "execution_count": 20,
   "metadata": {},
   "outputs": [],
   "source": [
    "#This Cell Makes the Map\n",
    "#This pulls the USA State GEODATA from Docs \n",
    "url = (\n",
    "    \"https://raw.githubusercontent.com/python-visualization/folium/master/examples/data\"\n",
    ")\n",
    "state_geo = f\"{url}/us-states.json\"\n",
    "\n",
    "#Initializes and moves the map\n",
    "baseMap = folium.Map(location=[48, -102], zoom_start=3)\n",
    "\n",
    "#Creates cases layer\n",
    "folium.Choropleth(\n",
    "    geo_data= state_geo,\n",
    "    name=\"Covid Cases\",\n",
    "    data= sortedCovidData,\n",
    "    columns=[\"newState\", \"cases\"],\n",
    "    tooltip=['newState'],\n",
    "    key_on=\"feature.id\",\n",
    "    fill_color=\"BuGn\",\n",
    "    fill_opacity=0.7,\n",
    "    line_opacity=0.2,\n",
    "    legend_name=\"Covid Cases\",\n",
    "    show=False\n",
    ").add_to(baseMap)\n",
    "\n",
    "#Creates deaths layer\n",
    "folium.Choropleth(\n",
    "    geo_data= state_geo,\n",
    "    name=\"Covid Deaths\",\n",
    "    data= sortedCovidData,\n",
    "    columns=[\"newState\", \"deaths\"],\n",
    "    key_on=\"feature.id\",\n",
    "    fill_color=\"Reds\",\n",
    "    fill_opacity=0.7,\n",
    "    line_opacity=0.2,\n",
    "    legend_name=\"Covid Deaths\",\n",
    "    show=False\n",
    ").add_to(baseMap)\n",
    "\n",
    "#Allows user to isolate usa for clearer look at data\n",
    "folium.map.FeatureGroup(\"USA\", overlay=False).add_to(baseMap)\n",
    "\n",
    "#Makes the layers clickable\n",
    "folium.LayerControl(collapsed=False).add_to(baseMap)\n",
    "baseMap.save(\"map.html\")"
   ]
  }
 ],
 "metadata": {
  "interpreter": {
   "hash": "f95739850c4a4c80b5a98775c6bfd09db47355f45e79216da70bd5c971221e1c"
  },
  "kernelspec": {
   "display_name": "Python 3.9.5 64-bit ('venv': venv)",
   "language": "python",
   "name": "python3"
  },
  "language_info": {
   "codemirror_mode": {
    "name": "ipython",
    "version": 3
   },
   "file_extension": ".py",
   "mimetype": "text/x-python",
   "name": "python",
   "nbconvert_exporter": "python",
   "pygments_lexer": "ipython3",
   "version": "3.9.5"
  },
  "orig_nbformat": 4
 },
 "nbformat": 4,
 "nbformat_minor": 2
}
